{
 "cells": [
  {
   "cell_type": "code",
   "execution_count": 1,
   "metadata": {},
   "outputs": [],
   "source": [
    "import numpy as np\n",
    "#import the module numpy "
   ]
  },
  {
   "cell_type": "code",
   "execution_count": 3,
   "metadata": {},
   "outputs": [],
   "source": [
    "features = np.array (\n",
    "    [\n",
    "        [0,0],\n",
    "        [0,1],\n",
    "        [1,0],\n",
    "        [1,1]\n",
    "    ]\n",
    ")\n",
    "#the features for the or model , here we have taken the possible values for combination of two inputs"
   ]
  },
  {
   "cell_type": "code",
   "execution_count": 4,
   "metadata": {},
   "outputs": [],
   "source": [
    "labels = np.array( [ 0,1,1,1 ] )\n",
    "#labels for the or model, here the output for the features is taken as an array\n",
    "\n",
    "print(features,labels)\n",
    "#to print the features and the labels for which the model has to be trained"
   ]
  },
  {
   "cell_type": "code",
   "execution_count": 18,
   "metadata": {},
   "outputs": [],
   "source": [
    "#initialise weights, threshold , learning rate, epoch\n",
    "\n",
    "weight = [0.5,1]\n",
    "threshold = 0.7\n",
    "learning_rate = 0.5\n",
    "epoch = 50"
   ]
  },
  {
   "cell_type": "code",
   "execution_count": 19,
   "metadata": {},
   "outputs": [
    {
     "name": "stdout",
     "output_type": "stream",
     "text": [
      "prediction =  0  actual =  0  error =  0\n",
      "prediction =  1  actual =  1  error =  0\n",
      "prediction =  0  actual =  1  error =  1\n",
      "prediction =  1  actual =  1  error =  0\n",
      "Next epoch\n",
      "prediction =  0  actual =  0  error =  0\n",
      "prediction =  1  actual =  1  error =  0\n",
      "prediction =  1  actual =  1  error =  0\n",
      "prediction =  1  actual =  1  error =  0\n",
      "Next epoch\n"
     ]
    }
   ],
   "source": [
    "for i in range(epoch):\n",
    "    #print(\"epoch :\" , i)\n",
    "    #epoch is the number of the the model is trained with the same data\n",
    "    \n",
    "    delta = 0\n",
    "    #initial erroe is kept as 0\n",
    "    \n",
    "    for j in range(features.shape[0]):\n",
    "        #for each of the possible input given in the features\n",
    "        \n",
    "        actual = labels[j]\n",
    "        #actual output to be obtained\n",
    "        \n",
    "        x1 = features[j][0]\n",
    "        x2 = features[j][1]\n",
    "        #the value of two features as given in the features array\n",
    "        \n",
    "        unit = (x1 * weight[0]) + (x2 * weight[1])\n",
    "        #computation performed to obtain the sum of features multiplied with thier weights\n",
    "        \n",
    "        if unit > threshold:\n",
    "            #prediction is evaluated with the help of threshold\n",
    "            \n",
    "            predicted = 1\n",
    "        else:\n",
    "            predicted = 0\n",
    "            \n",
    "        error = actual - predicted\n",
    "        #error is computed so as to update the weights\n",
    "        \n",
    "        print(\"prediction = \",predicted,\" actual = \",actual,\" error = \",error)\n",
    "        #print statement to print the actual value , predicted value and the error\n",
    "        \n",
    "        delta += abs(error)\n",
    "        #to check whether the weights has to be updated or not , weights are updated if there is an error\n",
    "        \n",
    "        if delta:\n",
    "            weight[0] += learning_rate * delta\n",
    "            weight[1] += learning_rate * delta\n",
    "            #updation of weights, summing up of product of learning rate and delta\n",
    "            \n",
    "    print(\"Next epoch\")\n",
    "            \n",
    "    if(delta == 0):\n",
    "        #if delta equals to zero break the loop , i.e stop training the model , the model predicts accurately for the given train data\n",
    "        break\n",
    "        \n",
    "#deviprajwala\n",
    "#14-05-2021 16-05 pm\n"
   ]
  },
  {
   "cell_type": "code",
   "execution_count": null,
   "metadata": {},
   "outputs": [],
   "source": []
  }
 ],
 "metadata": {
  "kernelspec": {
   "display_name": "Python 3",
   "language": "python",
   "name": "python3"
  },
  "language_info": {
   "codemirror_mode": {
    "name": "ipython",
    "version": 3
   },
   "file_extension": ".py",
   "mimetype": "text/x-python",
   "name": "python",
   "nbconvert_exporter": "python",
   "pygments_lexer": "ipython3",
   "version": "3.7.1"
  }
 },
 "nbformat": 4,
 "nbformat_minor": 4
}
